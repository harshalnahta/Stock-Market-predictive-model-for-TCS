{
 "cells": [
  {
   "cell_type": "code",
   "execution_count": 4,
   "metadata": {},
   "outputs": [
    {
     "data": {
      "text/html": [
       "<div>\n",
       "<style scoped>\n",
       "    .dataframe tbody tr th:only-of-type {\n",
       "        vertical-align: middle;\n",
       "    }\n",
       "\n",
       "    .dataframe tbody tr th {\n",
       "        vertical-align: top;\n",
       "    }\n",
       "\n",
       "    .dataframe thead th {\n",
       "        text-align: right;\n",
       "    }\n",
       "</style>\n",
       "<table border=\"1\" class=\"dataframe\">\n",
       "  <thead>\n",
       "    <tr style=\"text-align: right;\">\n",
       "      <th></th>\n",
       "      <th>TCS(X)</th>\n",
       "      <th>SENSEX(Y)</th>\n",
       "    </tr>\n",
       "  </thead>\n",
       "  <tbody>\n",
       "    <tr>\n",
       "      <th>0</th>\n",
       "      <td>3577.80</td>\n",
       "      <td>57684.79</td>\n",
       "    </tr>\n",
       "    <tr>\n",
       "      <th>1</th>\n",
       "      <td>3446.85</td>\n",
       "      <td>57107.15</td>\n",
       "    </tr>\n",
       "    <tr>\n",
       "      <th>2</th>\n",
       "      <td>3475.70</td>\n",
       "      <td>59636.01</td>\n",
       "    </tr>\n",
       "    <tr>\n",
       "      <th>3</th>\n",
       "      <td>3526.05</td>\n",
       "      <td>60686.69</td>\n",
       "    </tr>\n",
       "    <tr>\n",
       "      <th>4</th>\n",
       "      <td>3508.65</td>\n",
       "      <td>59306.93</td>\n",
       "    </tr>\n",
       "  </tbody>\n",
       "</table>\n",
       "</div>"
      ],
      "text/plain": [
       "    TCS(X)  SENSEX(Y)\n",
       "0  3577.80   57684.79\n",
       "1  3446.85   57107.15\n",
       "2  3475.70   59636.01\n",
       "3  3526.05   60686.69\n",
       "4  3508.65   59306.93"
      ]
     },
     "execution_count": 4,
     "metadata": {},
     "output_type": "execute_result"
    }
   ],
   "source": [
    "import pandas as pb\n",
    "df=pb.read_csv('stock.csv')\n",
    "df.head()"
   ]
  },
  {
   "cell_type": "code",
   "execution_count": 5,
   "metadata": {},
   "outputs": [
    {
     "data": {
      "text/plain": [
       "3293.915384615385"
      ]
     },
     "execution_count": 5,
     "metadata": {},
     "output_type": "execute_result"
    }
   ],
   "source": [
    "df['TCS(X)'].mean()"
   ]
  },
  {
   "cell_type": "code",
   "execution_count": 6,
   "metadata": {},
   "outputs": [
    {
     "data": {
      "text/plain": [
       "dict_keys([(2783.6, 46099.01), (2861.0, 46099.01), (2894.3, 50889.76), (2909.35, 46973.54), (2928.25, 47868.98), (3008.05, 49099.99), (3035.65, 48782.36), (3050.2, 49858.24), (3051.5, 49206.47), (3057.95, 50405.32), (3066.8, 49858.24), (3071.85, 51544.3), (3080.5, 48732.55), (3109.5, 48832.03), (3111.35, 48878.54), (3120.9, 47868.98), (3132.9, 48782.36), (3143.6, 50540.48), (3143.75, 51422.88), (3157.95, 46285.77), (3165.0, 49008.5), (3167.45, 52975.8), (3190.8, 50731.63), (3194.8, 52386.19), (3195.15, 48832.03), (3208.15, 52484.67), (3212.85, 53140.06), (3233.35, 49034.67), (3273.8, 52100.05), (3297.3, 52344.45), (3303.1, 49034.67), (3309.8, 52586.84), (3322.25, 50029.83), (3325.45, 52925.04), (3380.8, 52344.45), (3397.75, 60821.62), (3446.85, 57107.15), (3463.4, 55437.29), (3475.7, 59636.01), (3498.85, 61305.95), (3508.65, 59306.93), (3526.05, 60686.69), (3559.5, 55437.29), (3577.8, 57684.79), (3611.45, 60059.06), (3720.15, 56124.72), (3730.2, 60048.47), (3791.4, 58129.95), (3827.85, 59015.89), (3842.05, 58129.95), (3871.3, 59015.89), (3935.65, 60059.06)])"
      ]
     },
     "execution_count": 6,
     "metadata": {},
     "output_type": "execute_result"
    }
   ],
   "source": [
    "df.groupby(['TCS(X)','SENSEX(Y)']).groups.keys()\n"
   ]
  },
  {
   "cell_type": "code",
   "execution_count": 7,
   "metadata": {},
   "outputs": [
    {
     "data": {
      "text/plain": [
       "0     57684.79\n",
       "1     57107.15\n",
       "2     59636.01\n",
       "3     60686.69\n",
       "4     59306.93\n",
       "5     60821.62\n",
       "6     61305.95\n",
       "7     60059.06\n",
       "8     60059.06\n",
       "9     60048.47\n",
       "10    59015.89\n",
       "11    59015.89\n",
       "12    58129.95\n",
       "13    58129.95\n",
       "14    56124.72\n",
       "15    55437.29\n",
       "16    55437.29\n",
       "17    52586.84\n",
       "18    52975.80\n",
       "19    53140.06\n",
       "20    52386.19\n",
       "21    52484.67\n",
       "22    52925.04\n",
       "23    52344.45\n",
       "24    52344.45\n",
       "25    52100.05\n",
       "26    51422.88\n",
       "27    50540.48\n",
       "28    48732.55\n",
       "29    49206.47\n",
       "30    48782.36\n",
       "31    48782.36\n",
       "32    48832.03\n",
       "33    48832.03\n",
       "34    50029.83\n",
       "35    49008.50\n",
       "36    49858.24\n",
       "37    49858.24\n",
       "38    50405.32\n",
       "39    49099.99\n",
       "40    50889.76\n",
       "41    51544.30\n",
       "42    50731.63\n",
       "43    46285.77\n",
       "44    48878.54\n",
       "45    49034.67\n",
       "46    49034.67\n",
       "47    47868.98\n",
       "48    47868.98\n",
       "49    46973.54\n",
       "50    46099.01\n",
       "51    46099.01\n",
       "Name: SENSEX(Y), dtype: float64"
      ]
     },
     "execution_count": 7,
     "metadata": {},
     "output_type": "execute_result"
    }
   ],
   "source": [
    "df[\"SENSEX(Y)\"]"
   ]
  },
  {
   "cell_type": "code",
   "execution_count": 8,
   "metadata": {},
   "outputs": [
    {
     "data": {
      "text/plain": [
       "0     3577.80\n",
       "1     3446.85\n",
       "2     3475.70\n",
       "3     3526.05\n",
       "4     3508.65\n",
       "5     3397.75\n",
       "6     3498.85\n",
       "7     3611.45\n",
       "8     3935.65\n",
       "9     3730.20\n",
       "10    3871.30\n",
       "11    3827.85\n",
       "12    3791.40\n",
       "13    3842.05\n",
       "14    3720.15\n",
       "15    3559.50\n",
       "16    3463.40\n",
       "17    3309.80\n",
       "18    3167.45\n",
       "19    3212.85\n",
       "20    3194.80\n",
       "21    3208.15\n",
       "22    3325.45\n",
       "23    3380.80\n",
       "24    3297.30\n",
       "25    3273.80\n",
       "26    3143.75\n",
       "27    3143.60\n",
       "28    3080.50\n",
       "29    3051.50\n",
       "30    3132.90\n",
       "31    3035.65\n",
       "32    3109.50\n",
       "33    3195.15\n",
       "34    3322.25\n",
       "35    3165.00\n",
       "36    3066.80\n",
       "37    3050.20\n",
       "38    3057.95\n",
       "39    3008.05\n",
       "40    2894.30\n",
       "41    3071.85\n",
       "42    3190.80\n",
       "43    3157.95\n",
       "44    3111.35\n",
       "45    3303.10\n",
       "46    3233.35\n",
       "47    3120.90\n",
       "48    2928.25\n",
       "49    2909.35\n",
       "50    2861.00\n",
       "51    2783.60\n",
       "Name: TCS(X), dtype: float64"
      ]
     },
     "execution_count": 8,
     "metadata": {},
     "output_type": "execute_result"
    }
   ],
   "source": [
    "df[\"TCS(X)\"]"
   ]
  },
  {
   "cell_type": "code",
   "execution_count": 9,
   "metadata": {},
   "outputs": [
    {
     "name": "stdout",
     "output_type": "stream",
     "text": [
      "Populating the interactive namespace from numpy and matplotlib\n"
     ]
    },
    {
     "data": {
      "image/png": "[encoded data removed]",
      "text/plain": [
       "<Figure size 432x288 with 1 Axes>"
      ]
     },
     "metadata": {
      "needs_background": "light"
     },
     "output_type": "display_data"
    }
   ],
   "source": [
    "%pylab inline\n",
    "import matplotlib.pyplot as plt\n",
    "plt.scatter(\n",
    "df[\"TCS(X)\"],df[\"SENSEX(Y)\"],\n",
    "    marker=\"o\",\n",
    "    color='b',\n",
    "    label=['stock price relation']\n",
    ")\n",
    "plt.xlabel('TCS')\n",
    "plt.ylabel('SENSEX')\n",
    "plt.legend(loc='lower right')\n",
    "plt.show()"
   ]
  },
  {
   "cell_type": "code",
   "execution_count": 10,
   "metadata": {},
   "outputs": [],
   "source": [
    "from sklearn.linear_model import LinearRegression\n",
    "model = LinearRegression()\n",
    "y=df['TCS(X)']\n",
    "x=df['SENSEX(Y)']"
   ]
  },
  {
   "cell_type": "code",
   "execution_count": 11,
   "metadata": {},
   "outputs": [
    {
     "data": {
      "text/plain": [
       "LinearRegression()"
      ]
     },
     "execution_count": 11,
     "metadata": {},
     "output_type": "execute_result"
    }
   ],
   "source": [
    "model.fit(df[['SENSEX(Y)']],df['TCS(X)'])"
   ]
  },
  {
   "cell_type": "code",
   "execution_count": 12,
   "metadata": {},
   "outputs": [
    {
     "data": {
      "text/plain": [
       "array([3382.67737902])"
      ]
     },
     "execution_count": 12,
     "metadata": {},
     "output_type": "execute_result"
    }
   ],
   "source": [
    "model.predict([[54481.84]])"
   ]
  },
  {
   "cell_type": "code",
   "execution_count": 13,
   "metadata": {},
   "outputs": [
    {
     "data": {
      "text/plain": [
       "0.7419710560148773"
      ]
     },
     "execution_count": 13,
     "metadata": {},
     "output_type": "execute_result"
    }
   ],
   "source": [
    "model.score(df[['SENSEX(Y)']],df['TCS(X)'])"
   ]
  },
  {
   "cell_type": "code",
   "execution_count": null,
   "metadata": {},
   "outputs": [],
   "source": []
  }
 ],
 "metadata": {
  "kernelspec": {
   "display_name": "Python 3",
   "language": "python",
   "name": "python3"
  },
  "language_info": {
   "codemirror_mode": {
    "name": "ipython",
    "version": 3
   },
   "file_extension": ".py",
   "mimetype": "text/x-python",
   "name": "python",
   "nbconvert_exporter": "python",
   "pygments_lexer": "ipython3",
   "version": "3.8.5"
  }
 },
 "nbformat": 4,
 "nbformat_minor": 4
}
